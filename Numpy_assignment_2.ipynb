{
 "cells": [
  {
   "cell_type": "code",
   "execution_count": 1,
   "id": "48a2d06e",
   "metadata": {},
   "outputs": [
    {
     "name": "stdout",
     "output_type": "stream",
     "text": [
      "enter the size of array3\n",
      "enter number1\n",
      "enter number2\n",
      "enter number3\n",
      "Original Array: \n",
      " [1 2 3]\n",
      "\n",
      "Reversed Array: \n",
      " [3 2 1]\n"
     ]
    }
   ],
   "source": [
    "#Write a NumPy program to reverse an array (first element becomes last). \n",
    "import numpy as np\n",
    "a=[]\n",
    "value=int(input(\"enter the size of array\"))\n",
    "for i in range(value):\n",
    "    val=int(input(\"enter number\"))\n",
    "    a.append(val)\n",
    "arr=np.array(a)\n",
    "#arr = np.array([10,20,30,40,50])\n",
    "print(\"Original Array: \\n\", arr)\n",
    "\n",
    "arr_reversed = np.flip(arr)\n",
    "print(\"\\nReversed Array: \\n\", arr_reversed)"
   ]
  },
  {
   "cell_type": "code",
   "execution_count": 2,
   "id": "4816a5fa",
   "metadata": {},
   "outputs": [
    {
     "name": "stdout",
     "output_type": "stream",
     "text": [
      "enter the size of array3\n",
      "enter number1\n",
      "enter number2\n",
      "enter number3\n",
      "[1 3]\n"
     ]
    }
   ],
   "source": [
    "#Write a NumPy program to extract all odd numbers from an array \n",
    "a=[]\n",
    "value=int(input(\"enter the size of array\"))\n",
    "for i in range(value):\n",
    "    val=int(input(\"enter number\"))\n",
    "    a.append(val)\n",
    "arr=np.array(a)\n",
    "#arr=np.array([1,2,3,4,5,6,7,8,9])\n",
    "odds= arr[arr%2==1]\n",
    "print(odds)"
   ]
  },
  {
   "cell_type": "code",
   "execution_count": 51,
   "id": "90941c3a",
   "metadata": {},
   "outputs": [
    {
     "name": "stdout",
     "output_type": "stream",
     "text": [
      "1 on the border and 0 inside in the array\n",
      "[[1. 1. 1. 1. 1.]\n",
      " [1. 0. 0. 0. 1.]\n",
      " [1. 0. 0. 0. 1.]\n",
      " [1. 0. 0. 0. 1.]\n",
      " [1. 1. 1. 1. 1.]]\n"
     ]
    }
   ],
   "source": [
    "#1 on the border and 0 inside \n",
    "import numpy as np\n",
    "x = np.ones((5,5))\n",
    "print(\"1 on the border and 0 inside in the array\")\n",
    "x[1:-1,1:-1]=0\n",
    "print(x)"
   ]
  },
  {
   "cell_type": "code",
   "execution_count": 53,
   "id": "2cd503d1",
   "metadata": {},
   "outputs": [
    {
     "name": "stdout",
     "output_type": "stream",
     "text": [
      "Original Array :  [1 8 3 3 5]\n",
      "Array after appending :  [ 1  8  3  3  5  7 89 98]\n"
     ]
    }
   ],
   "source": [
    "#append values at the end of the string \n",
    "\n",
    "import numpy as np\n",
    "\n",
    "# creating an array\n",
    "arr = np.array([1, 8, 3, 3, 5])\n",
    "\n",
    "\n",
    "# appending to the array\n",
    "arr = np.append(arr, [7,89,98])\n",
    "print('Array after appending : ', arr)\n"
   ]
  },
  {
   "cell_type": "code",
   "execution_count": 3,
   "id": "4774502b",
   "metadata": {},
   "outputs": [
    {
     "name": "stdout",
     "output_type": "stream",
     "text": [
      "enter the size of array8\n",
      "enter number1\n",
      "enter number2\n",
      "enter number3\n",
      "enter number4\n",
      "enter number5\n",
      "enter number6\n",
      "enter number7\n",
      "enter number8\n",
      "\n",
      "Median of the array \n",
      "4.5\n"
     ]
    }
   ],
   "source": [
    "#median of the flattend array\n",
    "import numpy as np\n",
    "a=[]\n",
    "value=int(input(\"enter the size of array\"))\n",
    "for i in range(value):\n",
    "    val=int(input(\"enter number\"))\n",
    "    a.append(val)\n",
    "arr=np.array(a)\n",
    "\n",
    "#arr = np.array([1, 2, 3, 4, 5, 6, 7,8])\n",
    "\n",
    "median = np.median(arr)\n",
    "print(\"\\nMedian of the array \")\n",
    "print(median)\n"
   ]
  },
  {
   "cell_type": "code",
   "execution_count": 5,
   "id": "d8544ece",
   "metadata": {},
   "outputs": [
    {
     "name": "stdout",
     "output_type": "stream",
     "text": [
      "enter the size of array3\n",
      "enter number1\n",
      "enter number1\n",
      "enter number2\n",
      "Original array:\n",
      "[1 1 2]\n",
      "Most frequent value in the above array:\n",
      "1\n"
     ]
    }
   ],
   "source": [
    "#most frequent element\n",
    "import numpy as np\n",
    "a=[]\n",
    "value=int(input(\"enter the size of array\"))\n",
    "for i in range(value):\n",
    "    val=int(input(\"enter number\"))\n",
    "    a.append(val)\n",
    "arr=np.array(a)\n",
    "#x = np.array([1,2,3,4,5,45,45,45,45])\n",
    "print(\"Original array:\")\n",
    "print(arr)\n",
    "\n",
    "print(\"Most frequent value in the above array:\")\n",
    "print(np.bincount(arr).argmax())\n"
   ]
  },
  {
   "cell_type": "code",
   "execution_count": 62,
   "id": "45761433",
   "metadata": {},
   "outputs": [
    {
     "name": "stdout",
     "output_type": "stream",
     "text": [
      "equal\n"
     ]
    }
   ],
   "source": [
    "#comparing two random arrays\n",
    "x = np.array([45,45,45,45])\n",
    "y = np.array([45,45,45,45])\n",
    "\n",
    "if np.array_equal(x,y)==False:\n",
    "    print(\"not equal\")\n",
    "else:\n",
    "    print(\"equal\")\n"
   ]
  },
  {
   "cell_type": "code",
   "execution_count": 64,
   "id": "b961342f",
   "metadata": {},
   "outputs": [
    {
     "name": "stdout",
     "output_type": "stream",
     "text": [
      "Original array \n",
      "array1 = [0 1 2 3 4]\n",
      "array2 = [0 2 4 6 8]\n",
      "power to the array1 and array 2 :  [    1     1    16   729 65536]\n"
     ]
    }
   ],
   "source": [
    "#Write a NumPy program to get the powers of an array values element-wise. \n",
    "import numpy as np\n",
    "\n",
    "\n",
    "# creating the array\n",
    "sample_array1 = np.arange(5)\n",
    "sample_array2 = np.arange(0, 10, 2)\n",
    "\n",
    "print(\"Original array \")\n",
    "print(\"array1 =\", sample_array1)\n",
    "print(\"array2 =\", sample_array2)\n",
    "\n",
    "# calculating element-wise power\n",
    "power_array = np.power(sample_array1, sample_array2)\n",
    "\n",
    "print(\"power to the array1 and array 2 : \", power_array)\n"
   ]
  },
  {
   "cell_type": "code",
   "execution_count": 65,
   "id": "86155631",
   "metadata": {},
   "outputs": [
    {
     "name": "stdout",
     "output_type": "stream",
     "text": [
      "Add:\n",
      "5.0\n",
      "Subtract:\n",
      "-3.0\n",
      "Multiply:\n",
      "4.0\n",
      "Divide:\n",
      "0.25\n"
     ]
    }
   ],
   "source": [
    "#Write a NumPy program to add, subtract, multiply, divide arguments element-wise. \n",
    "import numpy as np\n",
    "print(\"Add:\")\n",
    "print(np.add(1.0, 4.0))\n",
    "print(\"Subtract:\")\n",
    "print(np.subtract(1.0, 4.0))\n",
    "print(\"Multiply:\")\n",
    "print(np.multiply(1.0, 4.0))\n",
    "print(\"Divide:\")\n",
    "print(np.divide(1.0, 4.0))\n"
   ]
  },
  {
   "cell_type": "code",
   "execution_count": 67,
   "id": "ba09850f",
   "metadata": {},
   "outputs": [
    {
     "name": "stdout",
     "output_type": "stream",
     "text": [
      "[[ 18  24  30]\n",
      " [ 54  69  84]\n",
      " [ 90 114 138]]\n"
     ]
    }
   ],
   "source": [
    "#multiplication of 2 matrices \n",
    "import numpy as np\n",
    "# initializing the matrices\n",
    "matrix1 = [[1, 2, 3], [4, 5, 6], [7, 8, 9]] \n",
    "\n",
    "matrix2 = [ [7, 8, 9], [4, 5, 6],[1, 2, 3]]\n",
    "\n",
    "# multiplying the two matrices\n",
    "\n",
    "result = np.dot(matrix1, matrix2)\n",
    "# printing the result\n",
    "print(result)"
   ]
  },
  {
   "cell_type": "code",
   "execution_count": 81,
   "id": "75300b76",
   "metadata": {},
   "outputs": [
    {
     "name": "stdout",
     "output_type": "stream",
     "text": [
      "[-1  2 -1  4 -1  6 -1  8 -1]\n"
     ]
    }
   ],
   "source": [
    "#replace odd with -1 \n",
    "import numpy as np  \n",
    "arr = np.arange(1,10)   \n",
    "\n",
    "arr[arr%2==1] = -1        \n",
    "\n",
    "print(arr)"
   ]
  },
  {
   "cell_type": "code",
   "execution_count": 82,
   "id": "838cd6e5",
   "metadata": {},
   "outputs": [
    {
     "name": "stdout",
     "output_type": "stream",
     "text": [
      "[1 2 3 4 5 6 7 8 9]\n",
      "[-1  2 -1  4 -1  6 -1  8 -1]\n"
     ]
    }
   ],
   "source": [
    "#same as above but without changing arr\n",
    "arr = np.array([ 1, 2, 3, 4, 5, 6, 7, 8, 9])\n",
    "arr2 = np.where(arr % 2 == 1, -1,arr) #WHERE CONDITION IS TRUE PUT -1 OTHERWISE PUT ARR THAT IS VALUE OF ELEMENT\n",
    "print(arr)\n",
    "print(arr2)"
   ]
  },
  {
   "cell_type": "code",
   "execution_count": 88,
   "id": "8f16b553",
   "metadata": {},
   "outputs": [
    {
     "name": "stdout",
     "output_type": "stream",
     "text": [
      "After reshaping having dimension 4x2:\n",
      "[[1 2]\n",
      " [3 4]\n",
      " [5 6]\n",
      " [7 8]]\n",
      "\n",
      "\n",
      "After reshaping having dimension 2x4:\n",
      "[[1 2 3 4]\n",
      " [5 6 7 8]]\n"
     ]
    }
   ],
   "source": [
    "#convert 1D TO 2D\n",
    "import numpy as np\n",
    "\n",
    "arr = np.array([1, 2, 3, 4, 5, 6, 7, 8])\n",
    "\n",
    "\n",
    "#having dimension 4 x 2\n",
    "arr1 = arr.reshape(4, 2)\n",
    "print ('After reshaping having dimension 4x2:')\n",
    "print (arr1)\n",
    "print ('\\n')\n",
    "\n",
    "#having dimension 2 x 4\n",
    "arr2 = arr.reshape(2, 4)\n",
    "print ('After reshaping having dimension 2x4:')\n",
    "print (arr2)\n",
    "\n"
   ]
  },
  {
   "cell_type": "code",
   "execution_count": 99,
   "id": "36000e4d",
   "metadata": {},
   "outputs": [
    {
     "name": "stdout",
     "output_type": "stream",
     "text": [
      "Original array:\n",
      "[[0 1 2]\n",
      " [3 4 5]\n",
      " [6 7 8]]\n",
      "After swapping arrays the last column and first column:\n",
      "[[0 1 2]\n",
      " [3 4 5]\n",
      " [6 7 8]]\n"
     ]
    }
   ],
   "source": [
    "#SWAP 2 COLUMNS IN 2D\n",
    "\n",
    "import numpy as np\n",
    "\n",
    "my_array = np.arange(9).reshape(3, 3)\n",
    "print(\"Original array:\")\n",
    "print(my_array)\n",
    "\n",
    "# swapping the column with index of\n",
    "\n",
    "my_array[:, [2, 0]] = my_array[:, [2, 0]]\n",
    "print(\"After swapping arrays the last column and first column:\")\n",
    "print(my_array)\n"
   ]
  },
  {
   "cell_type": "code",
   "execution_count": 106,
   "id": "5e696b17",
   "metadata": {},
   "outputs": [
    {
     "name": "stdout",
     "output_type": "stream",
     "text": [
      "2D Numpy Array\n",
      "[[11 12 13 11]\n",
      " [21 22 23 24]\n",
      " [31 32 33 34]]\n",
      "Reversed Array  for rows: \n",
      " [[31 32 33 34]\n",
      " [21 22 23 24]\n",
      " [11 12 13 11]]\n",
      "Reversed Array  for colums: \n",
      " [[11 13 12 11]\n",
      " [24 23 22 21]\n",
      " [34 33 32 31]]\n"
     ]
    }
   ],
   "source": [
    "arr2D = np.array([[11, 12, 13, 11], [21, 22, 23, 24], [31, 32, 33, 34]])\n",
    "print('2D Numpy Array')\n",
    "print(arr2D)\n",
    "  # Reverse contents of each row and column in the Numpy Array\n",
    "\n",
    "reversedArr = np.flip(arr2D, axis=0)\n",
    "print('Reversed Array  for rows: \\n',reversedArr)\n",
    "\n",
    "reversedArr1 = np.flip(arr2D, axis=1)\n",
    "print('Reversed Array  for colums: \\n',reversedArr1)\n"
   ]
  },
  {
   "cell_type": "code",
   "execution_count": null,
   "id": "73fbe869",
   "metadata": {},
   "outputs": [],
   "source": []
  }
 ],
 "metadata": {
  "kernelspec": {
   "display_name": "Python 3 (ipykernel)",
   "language": "python",
   "name": "python3"
  },
  "language_info": {
   "codemirror_mode": {
    "name": "ipython",
    "version": 3
   },
   "file_extension": ".py",
   "mimetype": "text/x-python",
   "name": "python",
   "nbconvert_exporter": "python",
   "pygments_lexer": "ipython3",
   "version": "3.9.13"
  }
 },
 "nbformat": 4,
 "nbformat_minor": 5
}
