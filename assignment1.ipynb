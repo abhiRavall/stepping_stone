{
 "cells": [
  {
   "cell_type": "code",
   "execution_count": 36,
   "id": "c8f32665",
   "metadata": {},
   "outputs": [
    {
     "name": "stdout",
     "output_type": "stream",
     "text": [
      "enter the radius of the circle :\n",
      "34\n",
      "you entered : 34\n",
      "area of the circle is :  106.76\n"
     ]
    }
   ],
   "source": [
    "#Write a Python program which accept the radius of a circle from the user and compute the area. \n",
    "print(\"enter the radius of the circle :\")\n",
    "in1=input()\n",
    "print(\"you entered :\",in1)\n",
    "pi=3.14\n",
    "area= float(in1) * pi\n",
    "print(\"area of the circle is : \" , area)\n"
   ]
  },
  {
   "cell_type": "code",
   "execution_count": 37,
   "id": "f9a78aa3",
   "metadata": {},
   "outputs": [
    {
     "name": "stdout",
     "output_type": "stream",
     "text": [
      "enter the Temp in f of the city :\n",
      "101\n",
      "you entered : 101\n",
      "temp in c of city : 38.333333333333336\n"
     ]
    }
   ],
   "source": [
    "#Temperature of a city in Fahrenheit degrees is input through the keyboard. Write a program to convert this temperature \n",
    "#into Centigrade degrees.\n",
    "print(\"enter the Temp in f of the city :\")\n",
    "in1=input()\n",
    "print(\"you entered :\",in1)\n",
    "C=(float(in1) - 32 ) * 5 / 9\n",
    "print(\"temp in c of city :\", C)"
   ]
  },
  {
   "cell_type": "code",
   "execution_count": 39,
   "id": "faa6ad8e",
   "metadata": {},
   "outputs": [
    {
     "name": "stdout",
     "output_type": "stream",
     "text": [
      "enter the basic salary :\n",
      "125\n",
      "you entered : 125\n",
      "gross salary :  200.0\n"
     ]
    }
   ],
   "source": [
    "#Ramesh’s basic salary is input through the keyboard. His dearness allowance is 40% of basic salary,\n",
    "#and house rent allowance is 20% of basic salary. Write a program to calculate his gross salary.  \n",
    "print(\"enter the basic salary :\")\n",
    "in1=input()\n",
    "print(\"you entered :\",in1)\n",
    "da=float(in1) * 0.4\n",
    "hra=float(in1) * 0.2\n",
    "gross=float(in1) + float(da) + float(hra)\n",
    "print(\"gross salary : \" , gross)"
   ]
  },
  {
   "cell_type": "code",
   "execution_count": 41,
   "id": "e26daf1c",
   "metadata": {},
   "outputs": [
    {
     "name": "stdout",
     "output_type": "stream",
     "text": [
      "enter first number : \n",
      "2\n",
      "enter second number : \n",
      "2\n",
      "choose the operation \n",
      " add-1 \n",
      " sub-2 \n",
      " mul-3 \n",
      " div-4\n",
      "45\n",
      " enter a valid operation \n"
     ]
    }
   ],
   "source": [
    "#Write a Python Program to make a simple calculator that can add, subtract, multiply and divide  \n",
    "print(\"enter first number : \")\n",
    "in1=input()\n",
    "print(\"enter second number : \")\n",
    "in2=input()\n",
    "print(\"choose the operation \\n add-1 \\n sub-2 \\n mul-3 \\n div-4\")\n",
    "in3=int(input())\n",
    "a,b,c,d=1,2,3,4\n",
    "\n",
    "if in3==a:\n",
    "    print(int(in1) + int(in2))\n",
    "elif in3==b:\n",
    "    print(int(in1)-int(in2))\n",
    "elif in3==c:\n",
    "    print(int(in1)*int(in2))\n",
    "elif in3==d:\n",
    "    print(int(in1)/int(in2))\n",
    "else:\n",
    "    print(\" enter a valid operation \")\n",
    "          \n"
   ]
  },
  {
   "cell_type": "code",
   "execution_count": 44,
   "id": "4bb88f89",
   "metadata": {},
   "outputs": [
    {
     "name": "stdout",
     "output_type": "stream",
     "text": [
      "enter number : \n",
      "9\n",
      "square root is : 3.0\n"
     ]
    }
   ],
   "source": [
    "#Write a Python Program to calculate the square root\n",
    "print(\"enter number : \")\n",
    "in1=float(input())\n",
    "power=0.5\n",
    "roots= in1 ** power\n",
    "print(\"square root is :\",roots)\n",
    "\n"
   ]
  },
  {
   "cell_type": "code",
   "execution_count": 45,
   "id": "9251ab39",
   "metadata": {},
   "outputs": [
    {
     "name": "stdout",
     "output_type": "stream",
     "text": [
      "5.0\n"
     ]
    }
   ],
   "source": [
    "import math\n",
    "n=25\n",
    "sr=math.sqrt(n)\n",
    "print(sr)"
   ]
  },
  {
   "cell_type": "code",
   "execution_count": 31,
   "id": "2cb42dd6",
   "metadata": {},
   "outputs": [
    {
     "name": "stdout",
     "output_type": "stream",
     "text": [
      "enter first side : \n",
      "2\n",
      "enter second side : \n",
      "2\n",
      "enter thrid side : \n",
      "2\n",
      "area of a triangle is : 1.7320508075688772\n"
     ]
    }
   ],
   "source": [
    "#Write a Python Program to find the area of triangle \n",
    "\n",
    "# Three sides of the triangle a, b and c are provided by the user \n",
    "\n",
    " \n",
    "\n",
    "print(\"enter first side : \")\n",
    "in1=int(input())\n",
    "print(\"enter second side : \")\n",
    "in2=int(input())\n",
    "print(\"enter thrid side : \")\n",
    "in3=int(input())\n",
    "s = float(in1+in2+in3)/2\n",
    "s1= s*(s-in1)*(s-in2)*(s-in3)\n",
    "area=float(s1)**0.5\n",
    "print(\"area of a triangle is :\",area)"
   ]
  },
  {
   "cell_type": "code",
   "execution_count": 34,
   "id": "88237857",
   "metadata": {},
   "outputs": [
    {
     "name": "stdout",
     "output_type": "stream",
     "text": [
      "enter a : \n",
      "3\n",
      "enter b : \n",
      "3\n",
      "enter c : \n",
      "3\n",
      "The solution are  (-0.5-0.8660254037844387j) (-0.5+0.8660254037844387j)\n"
     ]
    }
   ],
   "source": [
    "#Write a Python Program to Solve the quadratic equation ax**2 + bx + c = 0 \n",
    "# Coeffients a, b and c are provided by the user \n",
    "import cmath\n",
    "print(\"enter a : \")\n",
    "in1=int(input())\n",
    "print(\"enter b : \")\n",
    "in2=int(input())\n",
    "print(\"enter c : \")\n",
    "in3=int(input())\n",
    "\n",
    "d = (in2**2) - (4*in1*in3)\n",
    "\n",
    "sol1 = (-in2-cmath.sqrt(d))/(2*in1)\n",
    "sol2 = (-in2+cmath.sqrt(d))/(2*in1)\n",
    "\n",
    "print('The solution are ',sol1,sol2)"
   ]
  },
  {
   "cell_type": "code",
   "execution_count": 43,
   "id": "147dc516",
   "metadata": {},
   "outputs": [
    {
     "name": "stdout",
     "output_type": "stream",
     "text": [
      "Please Enter any Number:\n",
      "12345\n",
      "Sum of the digits  15\n"
     ]
    }
   ],
   "source": [
    "#If a five-digit number is input through the keyboard, write a program to calculate the sum of its digits.\n",
    "print(\"Please Enter any Number:\" )\n",
    "in1 = int(input())\n",
    "Sum = 0\n",
    "while(in1 > 0):\n",
    "    Reminder = in1 % 10\n",
    "    Sum = Sum + Reminder\n",
    "    in1 = in1 //10\n",
    "\n",
    "print(\"Sum of the digits \",Sum)"
   ]
  },
  {
   "cell_type": "code",
   "execution_count": null,
   "id": "2a4bd421",
   "metadata": {},
   "outputs": [],
   "source": []
  }
 ],
 "metadata": {
  "kernelspec": {
   "display_name": "Python 3 (ipykernel)",
   "language": "python",
   "name": "python3"
  },
  "language_info": {
   "codemirror_mode": {
    "name": "ipython",
    "version": 3
   },
   "file_extension": ".py",
   "mimetype": "text/x-python",
   "name": "python",
   "nbconvert_exporter": "python",
   "pygments_lexer": "ipython3",
   "version": "3.9.13"
  }
 },
 "nbformat": 4,
 "nbformat_minor": 5
}
