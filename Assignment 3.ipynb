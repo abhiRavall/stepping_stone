{
 "cells": [
  {
   "cell_type": "code",
   "execution_count": null,
   "id": "bfc346ee",
   "metadata": {},
   "outputs": [],
   "source": [
    "#ASSIGNMENT 3 "
   ]
  },
  {
   "cell_type": "code",
   "execution_count": 74,
   "id": "1039db96",
   "metadata": {},
   "outputs": [
    {
     "name": "stdout",
     "output_type": "stream",
     "text": [
      "enter the size of list5\n",
      "enter number at index 0\n",
      "1\n",
      "enter number at index 1\n",
      "2\n",
      "enter number at index 2\n",
      "3\n",
      "enter number at index 3\n",
      "4\n",
      "enter number at index 4\n",
      "5\n",
      "sum of the no. from list is : 15\n",
      "maximum no. of the list is : 1\n",
      "minimum no. of the list is : 5\n"
     ]
    }
   ],
   "source": [
    "#problem 1 #problem 2 #problem 3\n",
    "\n",
    "#Write a Python program to sum all the items in a list. \n",
    "\n",
    "#Write a Python program to get the largest number from a list. \n",
    "\n",
    "#Write a Python program to get the smallest number from a list. \n",
    "\n",
    "def list1():\n",
    "    lis1=[]\n",
    "    n=int(input(\"enter the size of list\"))\n",
    "    for i in range(0,n):\n",
    "        print(\"enter number at index\",i)\n",
    "        no=int(input())\n",
    "        lis1.append(no)\n",
    "    print(\"sum of the no. from list is :\",sum(lis1))\n",
    "    print(\"maximum no. of the list is :\",min(lis1))\n",
    "    print(\"minimum no. of the list is :\",max(lis1))\n",
    "    \n",
    "list1() \n",
    "        "
   ]
  },
  {
   "cell_type": "code",
   "execution_count": 44,
   "id": "f523d23b",
   "metadata": {},
   "outputs": [
    {
     "name": "stdout",
     "output_type": "stream",
     "text": [
      "Red\n",
      "Black\n"
     ]
    }
   ],
   "source": [
    "#problem 4\n",
    "#Write a Python program to display the first and last colors from the following list. \n",
    "\n",
    "#color_list = [\"Red\",\"Green\",\"White\" ,\"Black\"] \n",
    "\n",
    "color_list = [\"Red\",\"Green\",\"White\" ,\"Black\"] \n",
    "print(color_list[0])\n",
    "print(color_list[-1])"
   ]
  },
  {
   "cell_type": "code",
   "execution_count": 36,
   "id": "7ca342ca",
   "metadata": {},
   "outputs": [
    {
     "name": "stdout",
     "output_type": "stream",
     "text": [
      "{'Green', 'White', 'Black'}\n"
     ]
    }
   ],
   "source": [
    "#problem 5\n",
    " #Write a Python program to print out a set containing all the colors from a list which are not present in another list \n",
    "\n",
    "#Test Data :  #color_list_1 = set([\"White\", \"Black\", \"Red\"])  color_list_2 = set([\"Red\", \"Green\"]) \n",
    "\n",
    "\n",
    "c1 = set([\"White\", \"Black\", \"Red\"]);\n",
    "c2 = set([\"Red\", \"Green\"]);\n",
    "c3=c1.symmetric_difference(c2)\n",
    "\n",
    "#c4=c2.difference(c1)\n",
    "#c5=c3.union(c4)\n",
    "print(c3)\n"
   ]
  },
  {
   "cell_type": "code",
   "execution_count": 2,
   "id": "2bd30583",
   "metadata": {},
   "outputs": [
    {
     "name": "stdout",
     "output_type": "stream",
     "text": [
      "enter a string :walking\n",
      "walkingly\n"
     ]
    }
   ],
   "source": [
    "#problem 6\n",
    "# Write a Python program to add 'ing' at the end of a given string (length should be at least 3). \n",
    "#If the given string is already ends with 'ing' then add 'ly' instead.\n",
    "\n",
    "def wrd():\n",
    "    wrd=input(\"enter a string :\")\n",
    "    i=len(wrd)\n",
    "    if i<3:\n",
    "            print(\"enter a valid string\")\n",
    "    else:\n",
    "            w1=wrd[-3]\n",
    "            if wrd[-3]==w1:\n",
    "                hey=wrd+\"ly\"\n",
    "                print(hey)\n",
    "            else:\n",
    "                wrd= wrd + \"ing\"\n",
    "                print(wrd)\n",
    "wrd()"
   ]
  },
  {
   "cell_type": "code",
   "execution_count": 2,
   "id": "a685776f",
   "metadata": {},
   "outputs": [
    {
     "name": "stdout",
     "output_type": "stream",
     "text": [
      "Enter the key (int) to be added:3\n",
      "Enter the value for the key to be added:45\n",
      "Updated dictionary is: {0: 10, 1: 20, 3: 45}\n"
     ]
    }
   ],
   "source": [
    "#problem 7\n",
    "#Write a Python program to add key to a dictionary. \n",
    "\n",
    "#Sample Dictionary : {0: 10, 1: 20} \n",
    "#Expected Result : {0: 10, 1: 20, 2: 30} \n",
    "\n",
    "def ky():\n",
    "    key=int(input(\"Enter the key (int) to be added:\"))\n",
    "    value=int(input(\"Enter the value for the key to be added:\"))\n",
    "    d={0: 10, 1: 20}\n",
    "    d.update({key:value})\n",
    "    print(\"Updated dictionary is:\",d)\n",
    "ky()"
   ]
  },
  {
   "cell_type": "code",
   "execution_count": 27,
   "id": "4beb03fc",
   "metadata": {},
   "outputs": [
    {
     "data": {
      "text/plain": [
       "{1: 10, 2: 20, 3: 30, 4: 40, 5: 50, 6: 60}"
      ]
     },
     "execution_count": 27,
     "metadata": {},
     "output_type": "execute_result"
    }
   ],
   "source": [
    "#problem 8 \n",
    "#Write a Python program to concatenate following dictionaries to create a new one. \n",
    "\n",
    "#Sample Dictionary :  \n",
    "#dic1={1:10, 2:20}  dic2={3:30, 4:40}  dic3={5:50,6:60} Expected Result : {1: 10, 2: 20, 3: 30, 4: 40, 5: 50, 6: 60} \n",
    "\n",
    " \n",
    "dic1={1:10,2:20}\n",
    "dic2={3:30,4:40}\n",
    "dic3={5:50,6:60}\n",
    "dic2.update(dic3)\n",
    "dic1.update(dic2)\n",
    "dic1"
   ]
  },
  {
   "cell_type": "code",
   "execution_count": 76,
   "id": "1a60e13e",
   "metadata": {},
   "outputs": [
    {
     "name": "stdout",
     "output_type": "stream",
     "text": [
      "marks of sub1:45\n",
      "marks of sub2:56\n",
      "marks of sub3:76\n",
      "marks of sub4:55\n",
      "marks of sub5:34\n",
      "percentage got: 53.2\n",
      "second division\n"
     ]
    }
   ],
   "source": [
    "#problem 9 The marks obtained by a student in 5 different Subjects are input through a keyboard.\n",
    "#The Student gets a division as per the following rules.\n",
    "\n",
    "def per():\n",
    "    m1=int(input(\"marks of sub1:\"))\n",
    "    m2=int(input(\"marks of sub2:\"))\n",
    "    m3=int(input(\"marks of sub3:\"))\n",
    "    m4=int(input(\"marks of sub4:\"))\n",
    "    m5=int(input(\"marks of sub5:\"))\n",
    "    \n",
    "    m6=(m1+m2+m3+m4+m5)*100/500\n",
    "    print(\"percentage got:\",m6)\n",
    "    if m6 < 40:\n",
    "        print(\"you are fail\")\n",
    "    elif 40<m6<49:\n",
    "        print(\"thrid division\")\n",
    "    elif 50<m6<59:\n",
    "        print(\"second division\")\n",
    "    else:\n",
    "        print(\"first division\")\n",
    "per()\n",
    "    \n",
    "                 "
   ]
  },
  {
   "cell_type": "code",
   "execution_count": 3,
   "id": "943b37d6",
   "metadata": {},
   "outputs": [
    {
     "name": "stdout",
     "output_type": "stream",
     "text": [
      "first no:12\n",
      "second no:12\n",
      "thrid no:34\n"
     ]
    },
    {
     "data": {
      "text/plain": [
       "34"
      ]
     },
     "execution_count": 3,
     "metadata": {},
     "output_type": "execute_result"
    }
   ],
   "source": [
    "#problem 10\n",
    "#write a Python program to find the largest number among the three input numbers \n",
    "def lar():\n",
    "    m1=int(input(\"first no:\"))\n",
    "    m2=int(input(\"second no:\"))\n",
    "    m3=int(input(\"thrid no:\"))\n",
    "    \n",
    "    if m1>m2:\n",
    "        if m1>m3:\n",
    "            return m1\n",
    "        else:\n",
    "            return m3\n",
    "    elif m2>m3:\n",
    "        return m2\n",
    "    else:\n",
    "        return m3\n",
    "lar()\n",
    "    "
   ]
  },
  {
   "cell_type": "code",
   "execution_count": 65,
   "id": "9ef22e87",
   "metadata": {},
   "outputs": [
    {
     "name": "stdout",
     "output_type": "stream",
     "text": [
      "Please enter year2024\n",
      "2024 is a Leap Year\n"
     ]
    }
   ],
   "source": [
    "#problem 11\n",
    "#write a Python program to check if the input year is a leap year or not\n",
    "\n",
    "def leap(n):\n",
    "    \n",
    "            if (( n%400 == 0) or (( n%4 == 0 ) and ( n%100 != 0))):\n",
    "                print(\"%d is a Leap Year\" %n)\n",
    "            else:\n",
    "                print(\"%d is Not the Leap Year\" %n)\n",
    "def main():\n",
    "    n = int(input(\"Please enter year\"))\n",
    "    leap(n)\n",
    "main()\n"
   ]
  },
  {
   "cell_type": "code",
   "execution_count": 63,
   "id": "ac0119cc",
   "metadata": {},
   "outputs": [
    {
     "name": "stdout",
     "output_type": "stream",
     "text": [
      "enter the n:5\n",
      "0\n",
      "1\n",
      "1\n",
      "2\n",
      "3\n"
     ]
    }
   ],
   "source": [
    "#problem 12 write a Program to display the Fibonacci sequence up to n-th term where n is provided by the user\n",
    "def febo(n1):\n",
    "    \n",
    "    n2=0\n",
    "    n3=1\n",
    "    print(n2)\n",
    "    print(n3)\n",
    "    for i in range(2,n1):\n",
    "        n4=n2+n3\n",
    "        n2=n3\n",
    "        n3=n4\n",
    "        print(n4)\n",
    "def main():\n",
    "    n1=int(input(\"enter the n:\"))\n",
    "    febo(n1)\n",
    "    \n",
    "main()"
   ]
  },
  {
   "cell_type": "code",
   "execution_count": 4,
   "id": "9adefe73",
   "metadata": {},
   "outputs": [
    {
     "name": "stdout",
     "output_type": "stream",
     "text": [
      "enter a string:abhishek\n",
      "no of vowels 3\n",
      "no of a 1\n",
      "no of e 1\n",
      "no of i 1\n",
      "no of o 0\n",
      "no of u 0\n"
     ]
    }
   ],
   "source": [
    "#problem 13\n",
    "#accept the strings and count the vowels\n",
    "def vo():\n",
    "        s1=\"aeiou\"\n",
    "        str1=input(\"enter a string:\")\n",
    "        str1=str1.lower()\n",
    "        v=0\n",
    "        a=0\n",
    "        e=0\n",
    "        i1=0\n",
    "        o=0\n",
    "        u=0\n",
    "        for i in str1:\n",
    "            if i in s1:\n",
    "                if i==\"a\":\n",
    "                    v=v+1\n",
    "                    a=a+1\n",
    "            if i in s1:\n",
    "                if i==\"e\":\n",
    "                    v=v+1\n",
    "                    e=e+1\n",
    "            if i in s1:\n",
    "                if i==\"i\":\n",
    "                    v=v+1\n",
    "                    i1=i1+1\n",
    "            if i in s1:\n",
    "                if i==\"o\":\n",
    "                    v=v+1\n",
    "                    o=o+1\n",
    "            if i in s1:\n",
    "                if i==\"u\":\n",
    "                    v=v+1\n",
    "                    u=u+1\n",
    "            \n",
    "\n",
    "        print(\"no of vowels\",v)\n",
    "        print(\"no of a\",a)\n",
    "        print(\"no of e\",e)\n",
    "        print(\"no of i\",i1)        \n",
    "        print(\"no of o\",o)\n",
    "        print(\"no of u\",u)\n",
    "vo()"
   ]
  },
  {
   "cell_type": "code",
   "execution_count": null,
   "id": "96bfe3d1",
   "metadata": {},
   "outputs": [],
   "source": [
    "#problem 14 write a Program to check if a string is palindrome or not\n",
    "def pal():\n",
    "            str1=input(\"enter a string:\")\n",
    "            str1=str1.lower()\n",
    "            str2=str1[::-1]\n",
    "            if str1==str2:\n",
    "                print(\" is a palindrome\")\n",
    "            else:\n",
    "                print(\"not a palindrome \")\n",
    "pal()"
   ]
  },
  {
   "cell_type": "code",
   "execution_count": null,
   "id": "e547959d",
   "metadata": {},
   "outputs": [],
   "source": []
  },
  {
   "cell_type": "code",
   "execution_count": null,
   "id": "c457f9a9",
   "metadata": {},
   "outputs": [],
   "source": []
  }
 ],
 "metadata": {
  "kernelspec": {
   "display_name": "Python 3 (ipykernel)",
   "language": "python",
   "name": "python3"
  },
  "language_info": {
   "codemirror_mode": {
    "name": "ipython",
    "version": 3
   },
   "file_extension": ".py",
   "mimetype": "text/x-python",
   "name": "python",
   "nbconvert_exporter": "python",
   "pygments_lexer": "ipython3",
   "version": "3.9.13"
  }
 },
 "nbformat": 4,
 "nbformat_minor": 5
}
