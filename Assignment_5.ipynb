{
 "cells": [
  {
   "cell_type": "code",
   "execution_count": 1,
   "id": "3d1c9ad5",
   "metadata": {},
   "outputs": [
    {
     "name": "stdout",
     "output_type": "stream",
     "text": [
      "enter a number:45\n"
     ]
    },
    {
     "data": {
      "text/plain": [
       "2025"
      ]
     },
     "execution_count": 1,
     "metadata": {},
     "output_type": "execute_result"
    }
   ],
   "source": [
    "#problem 1\n",
    "n=int(input(\"enter a number:\"))\n",
    "hey=lambda n: n ** 2\n",
    "hey(n)"
   ]
  },
  {
   "cell_type": "code",
   "execution_count": 2,
   "id": "3e251916",
   "metadata": {},
   "outputs": [
    {
     "name": "stdout",
     "output_type": "stream",
     "text": [
      "enter numbers separated by space to check if divisible by 13 : 13 26 77 44 66\n",
      "[13, 26]\n"
     ]
    }
   ],
   "source": [
    "#problem 2 \n",
    "my_list=()\n",
    "n=input(\"enter numbers separated by space to check if divisible by 13 : \")\n",
    "my_list=n.split(\" \")\n",
    "my_list = [eval(i) for i in my_list]\n",
    "new_list=list(filter(lambda x: (x%13 == 0),my_list))\n",
    "print(new_list)\n"
   ]
  },
  {
   "cell_type": "code",
   "execution_count": 3,
   "id": "00336620",
   "metadata": {},
   "outputs": [
    {
     "name": "stdout",
     "output_type": "stream",
     "text": [
      "enter large number:45\n",
      "enter small number:15\n",
      "hcf of 45 and 15 is 15\n"
     ]
    }
   ],
   "source": [
    "#problem 3\n",
    "def hcf(dividend,divisor):\n",
    "    rem=dividend % divisor\n",
    "    if rem ==0:\n",
    "        return divisor\n",
    "    else:\n",
    "        hcf(divisor,rem)\n",
    "\n",
    "a=int(input(\"enter large number:\"))\n",
    "b=int(input(\"enter small number:\"))\n",
    "c=hcf(a,b)\n",
    "print(\"hcf of {} and {} is {}\".format(a,b,c))"
   ]
  },
  {
   "cell_type": "code",
   "execution_count": 4,
   "id": "68156ea1",
   "metadata": {},
   "outputs": [
    {
     "name": "stdout",
     "output_type": "stream",
     "text": [
      "enter first number:12\n",
      "enter second number:6\n"
     ]
    },
    {
     "data": {
      "text/plain": [
       "'LCM IS :12 '"
      ]
     },
     "execution_count": 4,
     "metadata": {},
     "output_type": "execute_result"
    }
   ],
   "source": [
    "#problem 4 \n",
    "def lcm(num1,num2,c):\n",
    "    c=num2+c\n",
    "    if c%num1==0 and c%num2==0:\n",
    "        return (\"LCM IS :{} \".format(c))\n",
    "    return lcm(num1,num2,c)\n",
    "\n",
    "num1=int(input(\"enter first number:\"))\n",
    "num2=int(input(\"enter second number:\"))\n",
    "c=0\n",
    "\n",
    "lcm(num1,num2,c)"
   ]
  },
  {
   "cell_type": "code",
   "execution_count": 5,
   "id": "d99152f8",
   "metadata": {},
   "outputs": [
    {
     "name": "stdout",
     "output_type": "stream",
     "text": [
      "Enter an integer: 66\n",
      "The factors of 66 are:  1 2 3 6 11 22 33 66 "
     ]
    }
   ],
   "source": [
    "#problem 5 \n",
    "def factors(x):\n",
    "    if x == 1:\n",
    "        print(1 ,end =\" \")\n",
    "    elif num % x == 0:\n",
    "        factors(x-1)\n",
    "        print(x, end =\" \")\n",
    "    else:\n",
    "        factors(x-1)\n",
    "\n",
    "x = num = int(input('Enter an integer: '))\n",
    "\n",
    "print('The factors of', x, 'are: ',end =\" \")\n",
    "factors(x)"
   ]
  },
  {
   "cell_type": "code",
   "execution_count": 6,
   "id": "2b231698",
   "metadata": {},
   "outputs": [
    {
     "name": "stdout",
     "output_type": "stream",
     "text": [
      "enter a num1:12\n",
      "enter a num2:12\n",
      "which operation you want to perform \n",
      " Take new no. - 0\n",
      " ADDITION -1 \n",
      " SUBTRACTION-2 \n",
      " MULTIPLY - 3 \n",
      " DIVIDE - 4 \n",
      " END - 5 \n",
      " : 4\n",
      "1.0\n",
      "which operation you want to perform \n",
      " Take new no. - 0\n",
      " ADDITION -1 \n",
      " SUBTRACTION-2 \n",
      " MULTIPLY - 3 \n",
      " DIVIDE - 4 \n",
      " END - 5 \n",
      " : 2\n",
      "0\n",
      "which operation you want to perform \n",
      " Take new no. - 0\n",
      " ADDITION -1 \n",
      " SUBTRACTION-2 \n",
      " MULTIPLY - 3 \n",
      " DIVIDE - 4 \n",
      " END - 5 \n",
      " : 0\n",
      "enter a num1:23\n",
      "enter a num2:56\n",
      "which operation you want to perform \n",
      " Take new no. - 0\n",
      " ADDITION -1 \n",
      " SUBTRACTION-2 \n",
      " MULTIPLY - 3 \n",
      " DIVIDE - 4 \n",
      " END - 5 \n",
      " : 2\n",
      "-33\n",
      "which operation you want to perform \n",
      " Take new no. - 0\n",
      " ADDITION -1 \n",
      " SUBTRACTION-2 \n",
      " MULTIPLY - 3 \n",
      " DIVIDE - 4 \n",
      " END - 5 \n",
      " : 5\n",
      "Thank you\n"
     ]
    }
   ],
   "source": [
    "#problem 6 \n",
    "def calc():\n",
    "    n1=int(input(\"enter a num1:\"))\n",
    "    n2=int(input(\"enter a num2:\"))\n",
    "    op1(n1,n2)\n",
    "def op1(n1,n2):\n",
    "    n3=int(input(\"which operation you want to perform \\n Take new no. - 0\\n ADDITION -1 \\n SUBTRACTION-2 \\n MULTIPLY - 3 \\n DIVIDE - 4 \\n END - 5 \\n : \"))\n",
    "    op(n1,n2,n3)\n",
    "def op(n1,n2,n3):\n",
    "    if n3==1:\n",
    "        x=n1+n2\n",
    "        print(x)\n",
    "        op1(n1,n2)\n",
    "    elif n3==2:\n",
    "        x=n1-n2\n",
    "        print(x)\n",
    "        op1(n1,n2)\n",
    "    elif n3==3:\n",
    "        x=n1*n2\n",
    "        print(x)\n",
    "        op1(n1,n2)\n",
    "    elif n3==4:\n",
    "        x=n1/n2\n",
    "        print(x)\n",
    "        op1(n1,n2)\n",
    "    elif n3==5:\n",
    "        print(\"Thank you\")\n",
    "    elif n3==0:\n",
    "        calc()\n",
    "    else:\n",
    "        print(\"Enter a valid input!!\")\n",
    "calc()"
   ]
  },
  {
   "cell_type": "code",
   "execution_count": 11,
   "id": "e1dfff25",
   "metadata": {},
   "outputs": [
    {
     "name": "stdout",
     "output_type": "stream",
     "text": [
      "enter the no of terms:- 10\n",
      "0\n",
      "1\n",
      "1\n",
      "2\n",
      "3\n",
      "5\n",
      "8\n",
      "13\n",
      "21\n",
      "34\n",
      "55\n"
     ]
    }
   ],
   "source": [
    "#problem 7\n",
    "def fibo(n):\n",
    "    if n==0:\n",
    "        return(0)\n",
    "    if n==1:\n",
    "        return(1)\n",
    "    if n>1:\n",
    "        return(fibo(n-1)+fibo(n-2))\n",
    "\n",
    "n=int(input(\"enter the no of terms:- \"))\n",
    "for i in range(0,n+1):\n",
    "    print(fibo(i))"
   ]
  },
  {
   "cell_type": "code",
   "execution_count": 2,
   "id": "c133218b",
   "metadata": {},
   "outputs": [
    {
     "name": "stdout",
     "output_type": "stream",
     "text": [
      "enter n for terms :4\n",
      "10\n"
     ]
    }
   ],
   "source": [
    "#problem 8\n",
    "def  recursion(n): \n",
    "    if n <= 1: \n",
    "        return n\n",
    "    return n +  recursion(n - 1) \n",
    "\n",
    "n=int(input(\"enter n for terms :\"))\n",
    "print(recursion(n)) "
   ]
  },
  {
   "cell_type": "code",
   "execution_count": 6,
   "id": "98b18b37",
   "metadata": {},
   "outputs": [
    {
     "name": "stdout",
     "output_type": "stream",
     "text": [
      "enter a decimal no : 4\n",
      "100"
     ]
    }
   ],
   "source": [
    "#problem 9\n",
    "n=int(input(\"enter a decimal no : \"))\n",
    "l=[]\n",
    "while n!=0:\n",
    "    r=n%2\n",
    "    l.append(r)\n",
    "    n=n//2\n",
    "l.reverse()\n",
    "for i in l:\n",
    "    print(i,end=\"\")"
   ]
  },
  {
   "cell_type": "code",
   "execution_count": 8,
   "id": "d2e30d2c",
   "metadata": {},
   "outputs": [
    {
     "name": "stdout",
     "output_type": "stream",
     "text": [
      "enter a decimal no : 4\n",
      "[1]\n",
      "[0]\n",
      "[0]\n"
     ]
    }
   ],
   "source": [
    "#problem 9\n",
    "def bina(n):\n",
    "    l=[]\n",
    "    if n!=0:\n",
    "        r=n%2\n",
    "        l.append(r)\n",
    "        n=n//2\n",
    "        bina(n)\n",
    "        l.reverse()\n",
    "        print(l)\n",
    "\n",
    "n=int(input(\"enter a decimal no : \"))\n",
    "bina(n)\n",
    "\n",
    "    "
   ]
  },
  {
   "cell_type": "code",
   "execution_count": null,
   "id": "a2abedb2",
   "metadata": {},
   "outputs": [],
   "source": []
  }
 ],
 "metadata": {
  "kernelspec": {
   "display_name": "Python 3 (ipykernel)",
   "language": "python",
   "name": "python3"
  },
  "language_info": {
   "codemirror_mode": {
    "name": "ipython",
    "version": 3
   },
   "file_extension": ".py",
   "mimetype": "text/x-python",
   "name": "python",
   "nbconvert_exporter": "python",
   "pygments_lexer": "ipython3",
   "version": "3.9.13"
  }
 },
 "nbformat": 4,
 "nbformat_minor": 5
}
