{
 "cells": [
  {
   "cell_type": "code",
   "execution_count": 59,
   "id": "8f26c207",
   "metadata": {},
   "outputs": [
    {
     "name": "stdout",
     "output_type": "stream",
     "text": [
      "sum of even 90\n",
      "sum of odd 100\n"
     ]
    }
   ],
   "source": [
    "#problem 1-2 WAP to add all the odd numbers from 0 to 20.  \n",
    "\n",
    "#Q2: WAP to add all the even numbers between 0 to 20\n",
    "\n",
    "def add():\n",
    "    n=[]\n",
    "    n1=[]\n",
    "    for i in range (0,20):\n",
    "        if i%2==0:\n",
    "            n.append(i)\n",
    "        else:\n",
    "            n1.append(i)\n",
    "    ns=sum(n)\n",
    "    ns1=sum(n1)\n",
    "    print(\"sum of even\",ns)\n",
    "    print(\"sum of odd\",ns1)\n",
    "add()"
   ]
  },
  {
   "cell_type": "code",
   "execution_count": 60,
   "id": "e757d6dd",
   "metadata": {},
   "outputs": [
    {
     "name": "stdout",
     "output_type": "stream",
     "text": [
      "sum of even 14950\n"
     ]
    }
   ],
   "source": [
    "#problem 3 To find the sum of all integers greater than 100 and less than 200.\n",
    "def add():\n",
    "    n=[]\n",
    "    n1=[]\n",
    "    for i in range (100,200):\n",
    "            n.append(i)\n",
    "    ns=sum(n)\n",
    "    print(\"sum of even\",ns)\n",
    "add()"
   ]
  },
  {
   "cell_type": "code",
   "execution_count": 11,
   "id": "6bb51994",
   "metadata": {
    "scrolled": true
   },
   "outputs": [
    {
     "name": "stdout",
     "output_type": "stream",
     "text": [
      "enter a number:12\n",
      "12 * 1 = 12\n",
      "12 * 2 = 24\n",
      "12 * 3 = 36\n",
      "12 * 4 = 48\n",
      "12 * 5 = 60\n",
      "12 * 6 = 72\n",
      "12 * 7 = 84\n",
      "12 * 8 = 96\n",
      "12 * 9 = 108\n",
      "12 * 10 = 120\n"
     ]
    }
   ],
   "source": [
    "#problem 4 WAP to display a Multiplication table of a number enter from keyboard. \n",
    "def table():\n",
    "    n=int(input(\"enter a number:\"))\n",
    "    for i in range (1, 11):\n",
    "        print(\"%d * %d = %d\" % (n, i, n * i))\n",
    "table()"
   ]
  },
  {
   "cell_type": "code",
   "execution_count": 17,
   "id": "52ee57dc",
   "metadata": {
    "scrolled": true
   },
   "outputs": [
    {
     "name": "stdout",
     "output_type": "stream",
     "text": [
      "1540\n"
     ]
    }
   ],
   "source": [
    "#problem 5 Write a program to display the sum of square of the first ten even natural numbers \n",
    "def sq():\n",
    "    n=[]\n",
    "    for i in range(1,21):\n",
    "        if i%2==0:\n",
    "            n1=i*i\n",
    "            n.append(n1)\n",
    "            ns=sum(n)\n",
    "    print(ns)\n",
    "sq()"
   ]
  },
  {
   "cell_type": "code",
   "execution_count": 18,
   "id": "9dc5535b",
   "metadata": {},
   "outputs": [
    {
     "name": "stdout",
     "output_type": "stream",
     "text": [
      "3025\n"
     ]
    }
   ],
   "source": [
    "#problem 6 Write a program to display the sum of cube of the first ten even natural numbers \n",
    "def sq():\n",
    "    n=[]\n",
    "    for i in range(1,11):\n",
    "            n1=i*i*i\n",
    "            n.append(n1)\n",
    "            ns=sum(n)\n",
    "    print(ns)\n",
    "sq()"
   ]
  },
  {
   "cell_type": "code",
   "execution_count": 23,
   "id": "e4d6eece",
   "metadata": {
    "scrolled": true
   },
   "outputs": [
    {
     "name": "stdout",
     "output_type": "stream",
     "text": [
      "enter a character :z\n",
      "the asci value of z is 122\n"
     ]
    }
   ],
   "source": [
    "#problem 8,9,10 to print the ascii value\n",
    "a=input(\"enter a character :\")\n",
    "print(\"the asci value of {} is {}\".format(a,ord(a)))"
   ]
  },
  {
   "cell_type": "code",
   "execution_count": 33,
   "id": "8f63231b",
   "metadata": {},
   "outputs": [
    {
     "name": "stdout",
     "output_type": "stream",
     "text": [
      "Enter a string: aa bb cc zz a1\n",
      "The sorted words are:\n",
      "aa\n",
      "bb\n",
      "cc\n",
      "zz\n",
      "a1\n"
     ]
    }
   ],
   "source": [
    "#problem 11 write a Program to sort alphabetically the words form a string provided by the user. ] \n",
    "\n",
    "my_str = input(\"Enter a string: \")\n",
    "words = [word.lower() for word in my_str.split()]\n",
    "print(\"The sorted words are:\")\n",
    "for word in words:\n",
    "       print(word)"
   ]
  },
  {
   "cell_type": "code",
   "execution_count": 2,
   "id": "cfe1c483",
   "metadata": {},
   "outputs": [
    {
     "name": "stdout",
     "output_type": "stream",
     "text": [
      "1 \n",
      "2 1 \n",
      "3 2 1 \n"
     ]
    }
   ],
   "source": [
    "#problem 13\n",
    "rows=2\n",
    "for i in range(rows+1):\n",
    "    for j in range(i,-1,-1):\n",
    "        print(j+1,end=\" \")\n",
    "    print(\"\")\n"
   ]
  },
  {
   "cell_type": "code",
   "execution_count": 45,
   "id": "89f17b9a",
   "metadata": {},
   "outputs": [
    {
     "name": "stdout",
     "output_type": "stream",
     "text": [
      "1 \n",
      "1 2 \n",
      "1 2 3 \n"
     ]
    }
   ],
   "source": [
    "#problem 12\n",
    "rows = 3\n",
    "for i in range(1, rows + 1):\n",
    "    for j in range(1, i + 1):\n",
    "        print(j, end=' ')\n",
    "    print('')"
   ]
  },
  {
   "cell_type": "code",
   "execution_count": 56,
   "id": "b19f9fa7",
   "metadata": {},
   "outputs": [
    {
     "name": "stdout",
     "output_type": "stream",
     "text": [
      "* \n",
      "* * \n",
      "* * * \n",
      "* * * * \n",
      "* * * * * \n",
      "* * * * * * \n"
     ]
    }
   ],
   "source": [
    "#problem 14\n",
    "rows = 6\n",
    "for i in range(1,rows + 1):\n",
    "    for j in range(1, i + 1):\n",
    "        print(\"*\", end=' ')\n",
    "    print('')"
   ]
  },
  {
   "cell_type": "code",
   "execution_count": 58,
   "id": "0a2ef0ad",
   "metadata": {},
   "outputs": [
    {
     "name": "stdout",
     "output_type": "stream",
     "text": [
      "*  \n",
      "* *  \n",
      "* * *  \n",
      "* * * *  \n",
      "* * * * *  \n",
      "* * * * * *  \n",
      "* * * * * *  \n",
      "* * * * *  \n",
      "* * * *  \n",
      "* * *  \n",
      "* *  \n",
      "*  \n",
      " \n"
     ]
    }
   ],
   "source": [
    "#problem 15\n",
    "rows = 6\n",
    "for i in range(0, rows):\n",
    "    for j in range(0, i + 1):\n",
    "        print(\"*\", end=' ')\n",
    "    print(\" \")\n",
    "for i in range(rows + 1, 0, -1):\n",
    "    for j in range(0, i - 1):\n",
    "        print(\"*\", end=' ')\n",
    "    print(\" \")"
   ]
  },
  {
   "cell_type": "code",
   "execution_count": 63,
   "id": "c49fce9c",
   "metadata": {},
   "outputs": [
    {
     "name": "stdout",
     "output_type": "stream",
     "text": [
      "\t\t MULTIPLICATION TABLE \n",
      "  1   2   3   4   5   6   7   8   9  10 \n",
      "  2   4   6   8  10  12  14  16  18  20 \n",
      "  3   6   9  12  15  18  21  24  27  30 \n",
      "  4   8  12  16  20  24  28  32  36  40 \n",
      "  5  10  15  20  25  30  35  40  45  50 \n",
      "  6  12  18  24  30  36  42  48  54  60 \n",
      "  7  14  21  28  35  42  49  56  63  70 \n",
      "  8  16  24  32  40  48  56  64  72  80 \n",
      "  9  18  27  36  45  54  63  72  81  90 \n",
      " 10  20  30  40  50  60  70  80  90 100 \n"
     ]
    }
   ],
   "source": [
    "#problem 16\n",
    "a = 1\n",
    "print(\"\\t\\t MULTIPLICATION TABLE \")\n",
    "while a < 11:\n",
    "    n = 1\n",
    "    while n <= 10:\n",
    "        print(\"%3d\" % (a * n), end=' ')\n",
    "        n += 1\n",
    "    print()\n",
    "    a += 1"
   ]
  },
  {
   "cell_type": "code",
   "execution_count": null,
   "id": "f809a9e0",
   "metadata": {},
   "outputs": [],
   "source": [
    "#problem 7\n",
    "print(1 + 1/4 + 1/7 + 1/10 + 1/13 + 1/16 + 1/19 + 1/22 + 1/25)"
   ]
  }
 ],
 "metadata": {
  "kernelspec": {
   "display_name": "Python 3 (ipykernel)",
   "language": "python",
   "name": "python3"
  },
  "language_info": {
   "codemirror_mode": {
    "name": "ipython",
    "version": 3
   },
   "file_extension": ".py",
   "mimetype": "text/x-python",
   "name": "python",
   "nbconvert_exporter": "python",
   "pygments_lexer": "ipython3",
   "version": "3.9.13"
  }
 },
 "nbformat": 4,
 "nbformat_minor": 5
}
