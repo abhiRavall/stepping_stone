{
 "cells": [
  {
   "cell_type": "code",
   "execution_count": 8,
   "id": "090cfde5",
   "metadata": {},
   "outputs": [
    {
     "name": "stdout",
     "output_type": "stream",
     "text": [
      "Twinkle, twinkle, little star \n",
      "        how i wonder what you are\n",
      "                up about in the world so high\n",
      "                like a diamond in the sky\n",
      "Twinkle, twinkle, little star \n",
      "        how i wonder what you are\n"
     ]
    }
   ],
   "source": [
    "print(\"Twinkle, twinkle, little star \\n        how i wonder what you are\\n                up about in the world so high\\n                like a diamond in the sky\\nTwinkle, twinkle, little star \\n        how i wonder what you are\")"
   ]
  },
  {
   "cell_type": "code",
   "execution_count": 9,
   "id": "85fb1fbb",
   "metadata": {},
   "outputs": [
    {
     "name": "stdout",
     "output_type": "stream",
     "text": [
      "11\n"
     ]
    }
   ],
   "source": [
    "print(len(\"how are you\"))"
   ]
  },
  {
   "cell_type": "code",
   "execution_count": 14,
   "id": "c58730ea",
   "metadata": {},
   "outputs": [
    {
     "name": "stdout",
     "output_type": "stream",
     "text": [
      "a string that you \"don't\" have to escape \n",
      "This \n",
      " is a ....... multi-line \n",
      "heredoc string --------> example\n"
     ]
    }
   ],
   "source": [
    "print(\"a string that you \\\"don't\\\" have to escape \\nThis \\n is a ....... multi-line \\nheredoc string --------> example\" )"
   ]
  },
  {
   "cell_type": "code",
   "execution_count": 16,
   "id": "3a5360c1",
   "metadata": {},
   "outputs": [
    {
     "name": "stdout",
     "output_type": "stream",
     "text": [
      "abhi\n",
      "13\n",
      "ahmedbad\n"
     ]
    }
   ],
   "source": [
    "name = input()\n",
    "age = input()\n",
    "address = input()\n"
   ]
  },
  {
   "cell_type": "code",
   "execution_count": 17,
   "id": "dbe20a9e",
   "metadata": {},
   "outputs": [
    {
     "name": "stdout",
     "output_type": "stream",
     "text": [
      "Abhishek\n",
      "17\n",
      "ahmedbad\n",
      "Name: Abhishek\n",
      " Age:17\n",
      " Address:ahmedbad\n"
     ]
    }
   ],
   "source": [
    "def info():\n",
    "    name=input()\n",
    "    age=input()\n",
    "    address=input()\n",
    "    \n",
    "    print(\"Name: {}\\n Age:{}\\n Address:{}\".format(name,age,address))\n",
    "info()"
   ]
  },
  {
   "cell_type": "code",
   "execution_count": 20,
   "id": "585879c9",
   "metadata": {},
   "outputs": [
    {
     "name": "stdout",
     "output_type": "stream",
     "text": [
      "3444.55\n",
      "4.5\n",
      "3\n",
      "46501.43\n"
     ]
    }
   ],
   "source": [
    "def interest():\n",
    "    Principle_amt=float(input())\n",
    "    rate_interest=float(input())\n",
    "    years=float(input())\n",
    "    future_value=Principle_amt * rate_interest * years\n",
    "    print(round(future_value,2))\n",
    "interest()"
   ]
  },
  {
   "cell_type": "code",
   "execution_count": 27,
   "id": "e1ddaefc",
   "metadata": {},
   "outputs": [
    {
     "name": "stdout",
     "output_type": "stream",
     "text": [
      "value of x1:\n",
      "1\n",
      "value of x2:\n",
      "3\n",
      "value of y1:\n",
      "3\n",
      "value of y2:\n",
      "1\n",
      "2.8284271247461903\n"
     ]
    }
   ],
   "source": [
    "import math\n",
    "def dist():\n",
    "    print(\"value of x1:\")\n",
    "    x1=int(input())\n",
    "    print(\"value of x2:\")\n",
    "    x2=int(input())\n",
    "    print(\"value of y1:\")\n",
    "    y1=int(input())\n",
    "    print(\"value of y2:\")\n",
    "    y2=int(input())\n",
    "    x3=(((x2-x1)**2))+(((y2-y1)**2))\n",
    "    \n",
    "    print(math.sqrt(x3))\n",
    "dist()"
   ]
  },
  {
   "cell_type": "code",
   "execution_count": 46,
   "id": "59152513",
   "metadata": {},
   "outputs": [
    {
     "name": "stdout",
     "output_type": "stream",
     "text": [
      "give first string:\n",
      "abhi\n",
      "abhi\n"
     ]
    }
   ],
   "source": [
    "def abc():\n",
    "    print(\"give first string:\")\n",
    "    s1=input()\n",
    "    s4=s1[0:2]\n",
    "    s5=s1[-2:]\n",
    "    #s6=\"{}{}\".format(s4,s5)\n",
    "    s6 =s4 + s5\n",
    "    print(s6)\n",
    "abc()"
   ]
  },
  {
   "cell_type": "code",
   "execution_count": 5,
   "id": "3625ec26",
   "metadata": {},
   "outputs": [
    {
     "name": "stdout",
     "output_type": "stream",
     "text": [
      "resta$t\n"
     ]
    }
   ],
   "source": [
    "def problem8(str1):\n",
    "    str2=(str1.lower())\n",
    "    char=str2[0]\n",
    "    str2=str2.replace(char,\"$\")\n",
    "    str2=char+str2[1:]\n",
    "    print(str2)\n",
    "problem8(\"Restart\")"
   ]
  },
  {
   "cell_type": "code",
   "execution_count": 2,
   "id": "8768a787",
   "metadata": {},
   "outputs": [
    {
     "name": "stdout",
     "output_type": "stream",
     "text": [
      "a\n",
      "i\n",
      "ibha\n"
     ]
    }
   ],
   "source": [
    "def prob9(str1):\n",
    "    char=str1[0:1]\n",
    "    char1=str1[-1:]\n",
    "    print(char)\n",
    "    print(char1)\n",
    "    str1=char1 + str1[1:-1] + char\n",
    "    print(str1)\n",
    "prob9(\"abhi\")"
   ]
  },
  {
   "cell_type": "code",
   "execution_count": 79,
   "id": "5c763a2f",
   "metadata": {},
   "outputs": [
    {
     "name": "stdout",
     "output_type": "stream",
     "text": [
      "xyc abz\n"
     ]
    }
   ],
   "source": [
    "def prob9(a, b):\n",
    "  a1 = b[:2] + a[2:]\n",
    "  b1 = a[:2] + b[2:]\n",
    "\n",
    "  return a1 + ' ' + b1\n",
    "print(prob9('abc', 'xyz'))"
   ]
  },
  {
   "cell_type": "code",
   "execution_count": null,
   "id": "e7265fb4",
   "metadata": {},
   "outputs": [],
   "source": []
  }
 ],
 "metadata": {
  "kernelspec": {
   "display_name": "Python 3 (ipykernel)",
   "language": "python",
   "name": "python3"
  },
  "language_info": {
   "codemirror_mode": {
    "name": "ipython",
    "version": 3
   },
   "file_extension": ".py",
   "mimetype": "text/x-python",
   "name": "python",
   "nbconvert_exporter": "python",
   "pygments_lexer": "ipython3",
   "version": "3.9.13"
  }
 },
 "nbformat": 4,
 "nbformat_minor": 5
}
