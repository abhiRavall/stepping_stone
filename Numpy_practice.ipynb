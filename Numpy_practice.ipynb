{
 "cells": [
  {
   "cell_type": "code",
   "execution_count": 15,
   "id": "b73a9c8c",
   "metadata": {},
   "outputs": [
    {
     "data": {
      "text/plain": [
       "(2, 5)"
      ]
     },
     "execution_count": 15,
     "metadata": {},
     "output_type": "execute_result"
    }
   ],
   "source": [
    "import numpy as np\n",
    "myarr=np.array([[1,2,3,4,5],[7,8,9,10,11]])\n",
    "myarr.shape"
   ]
  },
  {
   "cell_type": "code",
   "execution_count": 16,
   "id": "e08c0d87",
   "metadata": {},
   "outputs": [
    {
     "name": "stdout",
     "output_type": "stream",
     "text": [
      "enter the size of array1\n",
      "enter number1\n",
      "[1]\n"
     ]
    }
   ],
   "source": [
    "#taking number from the user and inserting into the array #one dimensional array\n",
    "import numpy as np\n",
    "a=[]\n",
    "value=int(input(\"enter the size of array\"))\n",
    "for i in range(value):\n",
    "    val=int(input(\"enter number\"))\n",
    "    a.append(val)\n",
    "print(a)"
   ]
  },
  {
   "cell_type": "code",
   "execution_count": 1,
   "id": "38ab289e",
   "metadata": {},
   "outputs": [
    {
     "data": {
      "text/plain": [
       "array([[0., 0., 0., 0.],\n",
       "       [0., 0., 0., 0.],\n",
       "       [0., 0., 0., 0.],\n",
       "       [0., 0., 0., 0.]])"
      ]
     },
     "execution_count": 1,
     "metadata": {},
     "output_type": "execute_result"
    }
   ],
   "source": [
    "import numpy as np #prints zeros and ones \n",
    "arr=np.ones(4)\n",
    "arr1=np.zeros((4,4))\n",
    "arr\n",
    "arr1"
   ]
  },
  {
   "cell_type": "code",
   "execution_count": 55,
   "id": "c44fee82",
   "metadata": {},
   "outputs": [
    {
     "name": "stdout",
     "output_type": "stream",
     "text": [
      "[[1. 0. 0.]\n",
      " [0. 1. 0.]\n",
      " [0. 0. 1.]]\n"
     ]
    }
   ],
   "source": [
    "import numpy as np # gives 1 as diagonal \n",
    "arr=np.eye(3,3)\n",
    "arr\n",
    "print(arr)"
   ]
  },
  {
   "cell_type": "code",
   "execution_count": 3,
   "id": "ecea7c38",
   "metadata": {},
   "outputs": [
    {
     "name": "stdout",
     "output_type": "stream",
     "text": [
      "[[1 0 0 0 0]\n",
      " [0 2 0 0 0]\n",
      " [0 0 3 0 0]\n",
      " [0 0 0 4 0]\n",
      " [0 0 0 0 5]]\n"
     ]
    }
   ],
   "source": [
    "import numpy as np #gives what we have to enter in a diagonal \n",
    "arr=np.diag((1,2,3,4,5))\n",
    "print(arr)\n"
   ]
  },
  {
   "cell_type": "code",
   "execution_count": 43,
   "id": "37b336ba",
   "metadata": {},
   "outputs": [
    {
     "data": {
      "text/plain": [
       "array([1, 5, 3])"
      ]
     },
     "execution_count": 43,
     "metadata": {},
     "output_type": "execute_result"
    }
   ],
   "source": [
    "import numpy as np #random number generate \n",
    "arr=np.random.randint(1,10,3)\n",
    "arr"
   ]
  },
  {
   "cell_type": "code",
   "execution_count": 47,
   "id": "e47cf949",
   "metadata": {},
   "outputs": [
    {
     "data": {
      "text/plain": [
       "array([[0.80600465, 0.77477764, 0.15723582],\n",
       "       [0.11263357, 0.80344053, 0.95753795]])"
      ]
     },
     "execution_count": 47,
     "metadata": {},
     "output_type": "execute_result"
    }
   ],
   "source": [
    "#import numpy as np # gives random value between 0 to 9 where size of range is passed # also makes matrix\n",
    "arr=np.random.rand(2,3)\n",
    "arr"
   ]
  },
  {
   "cell_type": "code",
   "execution_count": 52,
   "id": "82144441",
   "metadata": {},
   "outputs": [
    {
     "data": {
      "text/plain": [
       "array([[554511712,       470,         0],\n",
       "       [        0,         5,   7340144]])"
      ]
     },
     "execution_count": 52,
     "metadata": {},
     "output_type": "execute_result"
    }
   ],
   "source": [
    "import numpy as np\n",
    "a = ([0,0,0], [0,0,0])\n",
    "np.empty_like(a)"
   ]
  },
  {
   "cell_type": "code",
   "execution_count": 53,
   "id": "b6f2833e",
   "metadata": {},
   "outputs": [
    {
     "name": "stdout",
     "output_type": "stream",
     "text": [
      "\n",
      "Matrix a : \n",
      " [[67 67]\n",
      " [67 67]]\n",
      "\n",
      "Matrix c : \n",
      " [[10.1 10.1 10.1]\n",
      " [10.1 10.1 10.1]\n",
      " [10.1 10.1 10.1]]\n"
     ]
    }
   ],
   "source": [
    "# numpy.full method , fills with the given element \n",
    "\n",
    "import numpy as np\n",
    "\n",
    "a = np.full([2, 2], 67, dtype = int)\n",
    "print(\"\\nMatrix a : \\n\", a)\n",
    "\n",
    "c = np.full([3, 3], 10.1)\n",
    "print(\"\\nMatrix c : \\n\", c)\n",
    "\n",
    "\n"
   ]
  },
  {
   "cell_type": "code",
   "execution_count": 7,
   "id": "cb51334e",
   "metadata": {},
   "outputs": [
    {
     "name": "stdout",
     "output_type": "stream",
     "text": [
      "[[2 3]\n",
      " [5 6]]\n"
     ]
    }
   ],
   "source": [
    "import numpy as np\n",
    "a=np.array([[1,2,3],\n",
    "            [4,5,6],[7,8,9]])\n",
    "\n",
    "print(a[:2,1:3])\n"
   ]
  },
  {
   "cell_type": "code",
   "execution_count": null,
   "id": "5388cb49",
   "metadata": {},
   "outputs": [],
   "source": []
  }
 ],
 "metadata": {
  "kernelspec": {
   "display_name": "Python 3 (ipykernel)",
   "language": "python",
   "name": "python3"
  },
  "language_info": {
   "codemirror_mode": {
    "name": "ipython",
    "version": 3
   },
   "file_extension": ".py",
   "mimetype": "text/x-python",
   "name": "python",
   "nbconvert_exporter": "python",
   "pygments_lexer": "ipython3",
   "version": "3.9.13"
  }
 },
 "nbformat": 4,
 "nbformat_minor": 5
}
