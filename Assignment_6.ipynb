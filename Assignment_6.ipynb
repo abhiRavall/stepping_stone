{
 "cells": [
  {
   "cell_type": "code",
   "execution_count": 43,
   "id": "4befe72a",
   "metadata": {},
   "outputs": [
    {
     "name": "stdout",
     "output_type": "stream",
     "text": [
      "Line1: Erle is the enabling technology for the\n",
      "Line2: next generation of aerial and terrestrial\n",
      "Line3: robots that will be used in cities solving\n",
      "Line4: tasks such as surveillance, environmental\n",
      "Line5: monitoring or even providing aid at catastrophes.\n",
      "Line6: ab 45 56 3 44\n",
      "no of lines : 6\n"
     ]
    }
   ],
   "source": [
    "#problem 1 #problem 4 read line by line and count the no of lines \n",
    "\n",
    "count = 0\n",
    "with open(\"C:\\\\Users\\\\AbhishekRawal\\\\OneDrive - Injala\\\\Desktop\\\\assignments\\\\Erle.txt\",'r') as fp:\n",
    "    \n",
    "    while True:\n",
    "        count += 1\n",
    "        line = fp.readline()\n",
    "        \n",
    "        if not line:\n",
    "            break\n",
    "            \n",
    "        print(\"Line{}: {}\".format(count, line.strip()))\n",
    "    print(\"no of lines :\",count-1)"
   ]
  },
  {
   "cell_type": "code",
   "execution_count": 1,
   "id": "30e22c30",
   "metadata": {},
   "outputs": [
    {
     "name": "stdout",
     "output_type": "stream",
     "text": [
      "enter a string : abhi is superb\n",
      "abhi is superb\n"
     ]
    }
   ],
   "source": [
    "#problem 2 & problem 5 add new line and print\n",
    "import os\n",
    "#lines=\"Welcome to robotics time..\"\n",
    "lines=input(\"enter a string : \")\n",
    "f=open('new_world.txt','+w')\n",
    "for line in lines:\n",
    "    f.write(line)\n",
    "with open(\"new_world.txt\",\"r\") as f:\n",
    "    file_contents = f.read()\n",
    "    print(file_contents)"
   ]
  },
  {
   "cell_type": "code",
   "execution_count": 42,
   "id": "805fef84",
   "metadata": {},
   "outputs": [
    {
     "name": "stdout",
     "output_type": "stream",
     "text": [
      "words in the file are :  33\n"
     ]
    }
   ],
   "source": [
    "#problem 3 count the no of word\n",
    "def wordcount():\n",
    "        with open('Erle.txt',\"r\") as fp:\n",
    "            fc=fp.read()\n",
    "            fc1=fc.split(\" \")\n",
    "            print(\"words in the file are : \",len(fc1))\n",
    "wordcount()"
   ]
  },
  {
   "cell_type": "code",
   "execution_count": 2,
   "id": "544a1a7c",
   "metadata": {},
   "outputs": [],
   "source": [
    "#problem 6 copy the content \n",
    "with open('Erle.txt','r') as firstfile, open('new_world.txt','a') as secondfile:\n",
    "    for line in firstfile:\n",
    "             secondfile.write(line)"
   ]
  },
  {
   "cell_type": "code",
   "execution_count": 7,
   "id": "7b50bfe4",
   "metadata": {},
   "outputs": [
    {
     "name": "stdout",
     "output_type": "stream",
     "text": [
      "which word you want to find? : as\n",
      "words in the file are :  1\n"
     ]
    }
   ],
   "source": [
    "#problem 7 find the word in file\n",
    "def wordfind():\n",
    "    \n",
    "    ab=input(\"which word you want to find? : \")\n",
    "    \n",
    "    with open('Erle.txt',\"r\") as fp:\n",
    "            fc=fp.read()\n",
    "            fc1=fc.split(\" \")\n",
    "            pc=fc1.count(ab)\n",
    "            \n",
    "    print(\"words in the file are : \",pc)\n",
    "    \n",
    "wordfind()"
   ]
  },
  {
   "cell_type": "code",
   "execution_count": 8,
   "id": "a7a52f4c",
   "metadata": {},
   "outputs": [
    {
     "name": "stdout",
     "output_type": "stream",
     "text": [
      "words in the file are :  Erle Is The Enabling Technology For The \n",
      "Next Generation Of Aerial And Terrestrial \n",
      "Robots That Will Be Used In Cities Solving \n",
      "Tasks Such As Surveillance, Environmental \n",
      "Monitoring Or Even Providing Aid At Catastrophes.\n"
     ]
    }
   ],
   "source": [
    "#problem 10 capital the first letter of each word\n",
    "def capi()\n",
    "        with open('Erle.txt',\"r\") as fp:\n",
    "            fc=fp.read()\n",
    "            b1=fc.title()\n",
    "            print(\"words in the file are : \",b1)\n",
    "capi()"
   ]
  },
  {
   "cell_type": "code",
   "execution_count": 16,
   "id": "eecff407",
   "metadata": {},
   "outputs": [
    {
     "name": "stdout",
     "output_type": "stream",
     "text": [
      "4\n"
     ]
    }
   ],
   "source": [
    "#problem 8 count no of digits in the file \n",
    "def digitcount():\n",
    "    with open('Erle.txt',\"r\") as fp:\n",
    "            fc=fp.read()\n",
    "            fc1=fc.split(\" \")\n",
    "            dg=0\n",
    "            for chre in fc1:\n",
    "                if chre.isdigit():\n",
    "                    dg+=1\n",
    "            print(dg)\n",
    "digitcount()"
   ]
  },
  {
   "cell_type": "code",
   "execution_count": 35,
   "id": "00bd4652",
   "metadata": {},
   "outputs": [
    {
     "name": "stdout",
     "output_type": "stream",
     "text": [
      "The attributes of now() are :\n",
      "time :  2023-02-08 12:31:38.480676\n",
      "Year : 2023\n",
      "Month :  2\n",
      "week number :  6\n",
      "day of year :  39\n",
      "Day :  8\n",
      "the day is :  2\n",
      "Hour :  12\n",
      "Minute :  31\n",
      "Second : 38\n",
      "Microsecond : 480676\n"
     ]
    }
   ],
   "source": [
    "#problem 11 print in all the formats \n",
    "\n",
    "import datetime\n",
    " \n",
    "\n",
    "current_time = datetime.datetime.now()\n",
    " \n",
    "print(\"The attributes of now() are :\")\n",
    "\n",
    "print(\"time : \",current_time)\n",
    " \n",
    "print(\"Year :\", current_time.year)\n",
    " \n",
    "print(\"Month : \", current_time.month)\n",
    "\n",
    "print(\"week number : \", datetime.date(2023, 2, 8 ).isocalendar()[1])\n",
    "\n",
    "print(\"day of year : \",current_time.timetuple().tm_yday)\n",
    "\n",
    "print(\"Day : \", current_time.day)\n",
    "\n",
    "print(\"the day is : \",current_time.weekday())\n",
    " \n",
    "print(\"Hour : \", current_time.hour)\n",
    "\n",
    "print(\"Minute : \", current_time.minute)\n",
    " \n",
    "print(\"Second :\", current_time.second)\n",
    " \n",
    "print(\"Microsecond :\", current_time.microsecond)"
   ]
  },
  {
   "cell_type": "code",
   "execution_count": 36,
   "id": "b531e5c0",
   "metadata": {},
   "outputs": [
    {
     "name": "stdout",
     "output_type": "stream",
     "text": [
      "2021-09-01 15:27:05\n"
     ]
    }
   ],
   "source": [
    "#problem 12 convert string date to specific format \n",
    "import datetime\n",
    "date_string = 'Sep 01 2021 03:27:05 PM'\n",
    " \n",
    "dt = datetime.datetime.strptime(date_string,'%b %d %Y %I:%M:%S %p')\n",
    " \n",
    "print(dt)"
   ]
  },
  {
   "cell_type": "code",
   "execution_count": 41,
   "id": "f7254406",
   "metadata": {},
   "outputs": [
    {
     "name": "stdout",
     "output_type": "stream",
     "text": [
      "1170 days\n"
     ]
    }
   ],
   "source": [
    "#problem 13 difference between the dates \n",
    "from datetime import date\n",
    " \n",
    "def numOfDays(date1, date2):\n",
    "    return (date2-date1).days\n",
    "     \n",
    "date1 = date(2023, 12, 13)\n",
    "date2 = date(2027, 2, 25)\n",
    "print(numOfDays(date1, date2), \"days\")"
   ]
  },
  {
   "cell_type": "code",
   "execution_count": 42,
   "id": "a27ff907",
   "metadata": {},
   "outputs": [
    {
     "name": "stdout",
     "output_type": "stream",
     "text": [
      "Today Date: 2023-02-08\n",
      "The last Monday date: 2023-02-06\n"
     ]
    }
   ],
   "source": [
    "#problem 14 last mondays date \n",
    "# importing date from datetime module\n",
    "from datetime import date\n",
    "\n",
    "# importing relativedelta, MO from dateutil\n",
    "from dateutil.relativedelta import relativedelta, MO\n",
    "\n",
    "# getting today's current local date\n",
    "todayDate = date.today()\n",
    "print('Today Date:',todayDate)\n",
    "\n",
    "# Pass MO(-1) as an argument to relativedelta to set weekday as Monday and -1 signifies last week's Monday\n",
    "lastMonday = todayDate + relativedelta(weekday=MO(-1))\n",
    "\n",
    "# printing the last Monday date\n",
    "print(\"The last Monday date:\", lastMonday)"
   ]
  },
  {
   "cell_type": "code",
   "execution_count": null,
   "id": "1d991e33",
   "metadata": {},
   "outputs": [],
   "source": []
  }
 ],
 "metadata": {
  "kernelspec": {
   "display_name": "Python 3 (ipykernel)",
   "language": "python",
   "name": "python3"
  },
  "language_info": {
   "codemirror_mode": {
    "name": "ipython",
    "version": 3
   },
   "file_extension": ".py",
   "mimetype": "text/x-python",
   "name": "python",
   "nbconvert_exporter": "python",
   "pygments_lexer": "ipython3",
   "version": "3.9.13"
  }
 },
 "nbformat": 4,
 "nbformat_minor": 5
}
